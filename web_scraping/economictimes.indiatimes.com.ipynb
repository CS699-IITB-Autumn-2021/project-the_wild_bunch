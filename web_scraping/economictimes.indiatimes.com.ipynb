{
 "cells": [
  {
   "cell_type": "code",
   "execution_count": 1,
   "id": "forbidden-adjustment",
   "metadata": {},
   "outputs": [],
   "source": [
    "import requests\n",
    "from bs4 import BeautifulSoup\n",
    "import time"
   ]
  },
  {
   "cell_type": "code",
   "execution_count": 2,
   "id": "biblical-square",
   "metadata": {},
   "outputs": [],
   "source": [
    "url = \"https://economictimes.indiatimes.com/markets/stocks/news/4th-richest-indian-shrugs-off-esg-rules-to-own-one-third-in-a-cigarette-firm/articleshow/86984485.cms\""
   ]
  },
  {
   "cell_type": "code",
   "execution_count": 3,
   "id": "dirty-effectiveness",
   "metadata": {},
   "outputs": [],
   "source": [
    "response = requests.get(url)\n",
    "soup = BeautifulSoup(response.text,'html.parser')"
   ]
  },
  {
   "cell_type": "code",
   "execution_count": 4,
   "id": "charitable-warning",
   "metadata": {},
   "outputs": [
    {
     "data": {
      "text/plain": [
       "'4th richest Indian shrugs off ESG rules to own one-third in a cigarette firm'"
      ]
     },
     "execution_count": 4,
     "metadata": {},
     "output_type": "execute_result"
    }
   ],
   "source": [
    "soup.body.h1.text"
   ]
  },
  {
   "cell_type": "code",
   "execution_count": 11,
   "id": "sought-entrance",
   "metadata": {},
   "outputs": [
    {
     "data": {
      "text/plain": [
       "'NEW DELHI: Seasoned investor and owner of DMart chain of hypermarkets Radhakishan Damani now owns nearly one-third stake in cigarette maker .<br><br>Damani and his investment firms Bright Star Investments and Derive Trading and Resorts together held about 32.3 per cent stake in VST Industries, up 210 basis points sequentially, which at Tuesday\\'s market value was worth Rs 1,729 crore. <br><br>He held 30.2 per cent stake in this company as of June 30, 2021, and 26 per cent as of September 30, 2019. This is even as cigarette stocks, including VST Industries, have underperformed the market due to concerns relating to ESG (environmental, social and corporate governance).<br><br>The retailing magnate is the fourth richest Indian, with a net worth of $29.4 billion, as per Forbes.<br><br>Shares of VST Industries have fallen 7 per cent year-to-date. They have risen mere 6 per cent in the last one year and 29 per cent from April 2020 low. Yet, Damani has been raising stake in the firm over the last couple of quarters.<br><br>VST is an established player in the cigarette industry with over eight decades of operations. It is the third largest player in the Indian cigarette market, with significant presence in West Bengal, Andhra Pradesh, Telangana, Bihar and Uttar Pradesh. The cigarette maker owns brands such as Charminar, Charms, Special, Moments, Total and Editions in the 64 millimetre (mm) and 69 mm segments.<br><br>ICICIdirect in its earnings preview expects VST Industries to report a 12.1 per cent YoY rise in net profit at Rs 99.3 crore for the September quarter. It expects revenue to grow 9.3 per cent on the back of a sharp recovery in cigarettes volumes.<br><br>\"We believe normalised activity after the second wave of pandemic would have resulted in strong volume recovery in cigarettes segment. Cigarettes & tobacco business sales are likely to grow 6.9 per cent and 20.3 per cent, respectively,\" it said while estimating operating profit for VST Industries at Rs 130.50 crore, up 15.5 per cent.<br><br>The cigarette maker will report its quarterly earnings on September 21.<br><br><a href=\\'https://economictimes.indiatimes.com/markets/stocks/news/4th-richest-indian-shrugs-off-esg-rules-to-own-one-third-in-a-cigarette-firm/articleshow/86984485.cms\\'>Read More...</a>'"
      ]
     },
     "execution_count": 11,
     "metadata": {},
     "output_type": "execute_result"
    }
   ],
   "source": [
    "extradiv = soup.find(\"div\", {\"class\": \"artText\"}).find_all('div')\n",
    "for i in extradiv:\n",
    "    i.decompose()\n",
    "soup.find(\"div\", {\"class\": \"artText\"}).text.replace('\\n','<br>') + \"<a href='\"+url+\"'>Read More...</a>\""
   ]
  },
  {
   "cell_type": "code",
   "execution_count": 10,
   "id": "useful-sound",
   "metadata": {},
   "outputs": [
    {
     "data": {
      "text/plain": [
       "'https://img.etimg.com/thumb/msid-86984533,width-210,imgsize-712908,,resizemode-4,quality-100/radhakishan-damani.jpg'"
      ]
     },
     "execution_count": 10,
     "metadata": {},
     "output_type": "execute_result"
    }
   ],
   "source": [
    "soup.figure.img['src']"
   ]
  },
  {
   "cell_type": "code",
   "execution_count": null,
   "id": "narrow-wallace",
   "metadata": {},
   "outputs": [],
   "source": []
  },
  {
   "cell_type": "code",
   "execution_count": null,
   "id": "separated-headline",
   "metadata": {},
   "outputs": [],
   "source": []
  },
  {
   "cell_type": "code",
   "execution_count": null,
   "id": "accredited-tsunami",
   "metadata": {},
   "outputs": [],
   "source": []
  },
  {
   "cell_type": "code",
   "execution_count": null,
   "id": "macro-demonstration",
   "metadata": {},
   "outputs": [],
   "source": []
  },
  {
   "cell_type": "code",
   "execution_count": null,
   "id": "detailed-tennis",
   "metadata": {},
   "outputs": [],
   "source": []
  },
  {
   "cell_type": "code",
   "execution_count": null,
   "id": "proved-convenience",
   "metadata": {},
   "outputs": [],
   "source": []
  },
  {
   "cell_type": "code",
   "execution_count": 12,
   "id": "numerical-framework",
   "metadata": {},
   "outputs": [],
   "source": [
    "url = \"https://economictimes.indiatimes.com/news/politics-and-nation/wont-blame-others-for-the-viral-video-congress-karnataka-chief-dk-shivakumar/articleshow/87017694.cms\""
   ]
  },
  {
   "cell_type": "code",
   "execution_count": 13,
   "id": "plain-joint",
   "metadata": {},
   "outputs": [],
   "source": [
    "response = requests.get(url)\n",
    "soup = BeautifulSoup(response.text,'html.parser')"
   ]
  },
  {
   "cell_type": "code",
   "execution_count": 14,
   "id": "criminal-landing",
   "metadata": {},
   "outputs": [
    {
     "data": {
      "text/plain": [
       "\"Won't blame others for the viral video: Congress Karnataka chief DK Shivakumar\""
      ]
     },
     "execution_count": 14,
     "metadata": {},
     "output_type": "execute_result"
    }
   ],
   "source": [
    "soup.body.h1.text"
   ]
  },
  {
   "cell_type": "code",
   "execution_count": 15,
   "id": "subtle-comedy",
   "metadata": {},
   "outputs": [
    {
     "data": {
      "text/plain": [
       "'The Congress\\' Karnataka unit president D K Shivakumar said he will not blame anyone for the viral video in which former Lok Sabha member V S Ugrappa and media coordinator M A Saleem attributed him to an alleged scam when he was a Minister. \"People have already spoken whatever they wanted. I will not blame the BJP or the media. We only gave others a chance to use us,\" Shivakumar told reporters. <br><br>He was responding to the queries on the embarrassing video of the purported conversation between Saleem and Ugrappa on Tuesday ahead of a press meet at the party\\'s meeting hall. <br><br>In the video, Saleem is purportedly heard calling Shivakumar a \\'Collection Giraaki\\' (extortionist), who allegedly increased the \\'commission\\' in irrigation contracts from eight per cent to 12 per cent. <br><br>The party suspended Saleem from the party for six years and served a show-cause notice to Ugrappa, who is Congress spokesperson, seeking an explanation in three days. <br><br>The Congress state chief said the issue related to the viral video was not personal but pertained to a party, which was built by the lakhs of party workers. <br><br>Hitting back at the BJP for targeting him following the viral video, Shivakumar said let the BJP take note of what their leaders have spoken against their leader such as MLC A H Vishwanath, C P Yogeshwar, Ramesh Jarkiholi and Basanagouda Patil Yatnal.<br><br>\"Why the BJP has not yet answered to the charges levelled by Vishwanath, Yogeeshwar, Ramesh Jarkiholi and Yatnal (against former Chief Minister B S Yediyurappa and his family)? Why are they not speaking about collection during the BJP\\'s tenure,\" the Congress state chief said. <br><br>He said his sole objective is to bring the Congress to power once again.<br><a href=\\'https://economictimes.indiatimes.com/news/politics-and-nation/wont-blame-others-for-the-viral-video-congress-karnataka-chief-dk-shivakumar/articleshow/87017694.cms\\'>Read More...</a>'"
      ]
     },
     "execution_count": 15,
     "metadata": {},
     "output_type": "execute_result"
    }
   ],
   "source": [
    "extradiv = soup.find(\"div\", {\"class\": \"artText\"}).find_all('div')\n",
    "for i in extradiv:\n",
    "    i.decompose()\n",
    "soup.find(\"div\", {\"class\": \"artText\"}).text.replace('\\n','<br>') + \"<a href='\"+url+\"'>Read More...</a>\""
   ]
  },
  {
   "cell_type": "code",
   "execution_count": 16,
   "id": "valid-sociology",
   "metadata": {},
   "outputs": [
    {
     "data": {
      "text/plain": [
       "'https://img.etimg.com/thumb/msid-87017772,width-300,imgsize-61662,,resizemode-4,quality-100/dk-shivakumar-bccl.jpg'"
      ]
     },
     "execution_count": 16,
     "metadata": {},
     "output_type": "execute_result"
    }
   ],
   "source": [
    "soup.figure.img['src']"
   ]
  },
  {
   "cell_type": "code",
   "execution_count": null,
   "id": "advisory-algeria",
   "metadata": {},
   "outputs": [],
   "source": []
  }
 ],
 "metadata": {
  "kernelspec": {
   "display_name": "Python 3",
   "language": "python",
   "name": "python3"
  },
  "language_info": {
   "codemirror_mode": {
    "name": "ipython",
    "version": 3
   },
   "file_extension": ".py",
   "mimetype": "text/x-python",
   "name": "python",
   "nbconvert_exporter": "python",
   "pygments_lexer": "ipython3",
   "version": "3.8.5"
  }
 },
 "nbformat": 4,
 "nbformat_minor": 5
}

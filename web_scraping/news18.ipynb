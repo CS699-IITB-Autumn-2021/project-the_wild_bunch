{
 "cells": [
  {
   "cell_type": "code",
   "execution_count": 1,
   "id": "featured-hierarchy",
   "metadata": {},
   "outputs": [],
   "source": [
    "import requests\n",
    "from bs4 import BeautifulSoup\n",
    "import time"
   ]
  },
  {
   "cell_type": "code",
   "execution_count": 2,
   "id": "developed-onion",
   "metadata": {},
   "outputs": [],
   "source": [
    "# url = \"https://www.news18.com/news/business/tcs-wipro-marico-work-from-home-to-end-soon-how-it-firms-planning-to-return-to-office-4274480.html\"\n",
    "# url = \"https://www.news18.com/cricketnext/news/mumbai-cricket-association-to-handover-hospitality-box-to-sunil-gavaskar-on-october-29-4275809.html\"\n",
    "#url = \"https://www.news18.com/news/india/amid-covid-19-restrictions-odisha-celebrates-durga-puja-dusshera-in-subdued-manner-4327211.html\"\n",
    "url = \"https://www.news18.com/news/world/exclusive-more-cracks-in-taliban-as-international-face-stanikzai-upset-with-afghan-regime-pak-meddling-4336580.html\""
   ]
  },
  {
   "cell_type": "code",
   "execution_count": 3,
   "id": "given-software",
   "metadata": {},
   "outputs": [],
   "source": [
    "response = requests.get(url)\n",
    "soup = BeautifulSoup(response.text,'html.parser')"
   ]
  },
  {
   "cell_type": "code",
   "execution_count": 4,
   "id": "ambient-basis",
   "metadata": {},
   "outputs": [
    {
     "data": {
      "text/plain": [
       "\"EXCLUSIVE | More Cracks in Taliban as Int'l Face Stanikzai Upset with Afghan Regime, Pak Meddling\""
      ]
     },
     "execution_count": 4,
     "metadata": {},
     "output_type": "execute_result"
    }
   ],
   "source": [
    "soup.body.h1.text.strip()"
   ]
  },
  {
   "cell_type": "code",
   "execution_count": 5,
   "id": "worthy-intersection",
   "metadata": {},
   "outputs": [
    {
     "name": "stdout",
     "output_type": "stream",
     "text": [
      "It’s no secret that Afghanistan‘s Taliban regime is under considerable international pressure to adopt a moderate avatar and introduce more compassion and modernity into its governance style. The Islamist group has frequently made the right noises — promising to respect women’s rights, forgive those who fought against it, and prevent Afghanistan from being used as a base for terror attacks. But the world is keeping an eye on its actions, and they have been less-than-satisfactory so far. And it seems the strain is proving too much. Sources have told CNN-News18 that Sher Mohammad Abbas Stanikzai, the internationally recognised face of the Taliban, has told the regime in clear terms that managing the global diplomatic expectations is becoming demanding.<br>Afghanistan’s deputy minister of foreign affairs, who is yet to join office, is one of the key leaders controlling the Taliban’s international narrative and took the lead in negotiating a peace pact in Doha with the United States.<br>ALSO READ | PM Modi, Johnson Talk About Dealing With Taliban. Here’s the PM’s Stand on Afghanistan in the Past Month<br>Sources said Stanikazai is upset with the present face of the Afghan administration and with the interference of Pakistan’s Inter-Services Intelligence (ISI) in the government formation process.<br>​The Taliban’s Doha team has been absolutely marginalised within the Afghan government because of Pakistan, sources say. That’s because members of the notorious Haqqani network managed by the ISI have grabbed key posts in the Afghan administration and they do not want an inclusive government.<br>Sources say Stanikzai left Doha on Sunday and has reached Dubai following recent talks with the United States in the Qatari capital—the first since the Taliban seized power in August even as a two-decade-long US engagement in Afghanistan was ending. The Taliban are seeking international recognition, as well as assistance to avoid a humanitarian disaster and ease Afghanistan’s spiralling economic crisis with its funds frozen by America and other nations.<br>The regime’s efforts to consolidate power have also been dented by a series of deadly attacks in the country by the Islamic State Khorasan (ISIS-K) group.<br>Sources also told CNN-News18 on Sunday that the Taliban have confirmed the death of their elusive chief Hibatullah Akhundzada in a suicide attack orchestrated by Pakistani forces last year. Akhundzada had the final say in the Taliban on all matters political, military and religious.<br>ALSO READ | EXCLUSIVE | Taliban Confirm Chief Hibatullah Akhundzada Died in Suicide Attack by Pak Forces Last Year<br>CNN-News18 tried to contact Stanikzai and a Taliban spokesperson but received no response.<br><a href='https://www.news18.com/news/world/exclusive-more-cracks-in-taliban-as-international-face-stanikzai-upset-with-afghan-regime-pak-meddling-4336580.html'>Read More</a>\n"
     ]
    }
   ],
   "source": [
    "description = \"\";\n",
    "for content in soup.body.article.find_all(\"p\",class_=lambda x: x and x.startswith('story_para_'))[0:-1] :\n",
    "    if content.text.find(\"RELATED NEWS\") == -1 :\n",
    "        description = description + content.text.strip() + \"<br>\"\n",
    "description = description + \"<a href='\" + url + \"'>Read More</a>\"\n",
    "print(description)"
   ]
  },
  {
   "cell_type": "code",
   "execution_count": 9,
   "id": "unavailable-xerox",
   "metadata": {},
   "outputs": [],
   "source": [
    "image = soup.body.figure.find_all(\"img\")[1]['src']"
   ]
  },
  {
   "cell_type": "code",
   "execution_count": 10,
   "id": "peripheral-worcester",
   "metadata": {},
   "outputs": [],
   "source": [
    "response = requests.get(image)\n",
    "image = str(time.time()) + '.' + image.split('.')[-1]\n",
    "file = open(image, \"wb\")\n",
    "file.write(response.content)\n",
    "file.close()"
   ]
  },
  {
   "cell_type": "code",
   "execution_count": null,
   "id": "worth-donor",
   "metadata": {},
   "outputs": [],
   "source": []
  },
  {
   "cell_type": "code",
   "execution_count": null,
   "id": "annual-percentage",
   "metadata": {},
   "outputs": [],
   "source": []
  },
  {
   "cell_type": "code",
   "execution_count": null,
   "id": "initial-example",
   "metadata": {},
   "outputs": [],
   "source": []
  },
  {
   "cell_type": "code",
   "execution_count": 11,
   "id": "soviet-potato",
   "metadata": {},
   "outputs": [],
   "source": [
    "url = \"https://www.news18.com/news/politics/about-20-chhattisgarh-mlas-stay-put-in-delhi-cm-baghel-says-visit-not-political-4277003.html\""
   ]
  },
  {
   "cell_type": "code",
   "execution_count": 12,
   "id": "stylish-merchant",
   "metadata": {},
   "outputs": [],
   "source": [
    "response = requests.get(url)\n",
    "soup = BeautifulSoup(response.text,'html.parser')"
   ]
  },
  {
   "cell_type": "code",
   "execution_count": 13,
   "id": "vertical-transformation",
   "metadata": {},
   "outputs": [
    {
     "data": {
      "text/plain": [
       "\"About 20 Chhattisgarh Congress MLAs Stay Put in Delhi, CM Baghel Says Visit 'Not Political'\""
      ]
     },
     "execution_count": 13,
     "metadata": {},
     "output_type": "execute_result"
    }
   ],
   "source": [
    "soup.body.h1.text.strip()"
   ]
  },
  {
   "cell_type": "code",
   "execution_count": 16,
   "id": "powerful-nancy",
   "metadata": {},
   "outputs": [
    {
     "name": "stdout",
     "output_type": "stream",
     "text": [
      "However, Baghel, in Raipur, said the visit by the Congress MLAs to Delhi should not be seen through the prism of politics.<br>The chief minister said there is no ban on the legislators going somewhere and they are independent. \"It is not a political movement… They will visit and return,\" he added.<br>The remarks came amid speculations over the possibility of a leadership change in Chhattisgarh where cabinet minister T S Singhdeo is vying for the chief minister post. MLA Brihaspat Singh, who is camped in Delhi, reiterated on Saturday that there is no question of change of leadership in the state and the government will complete its term of five years under the leadership of Baghel.<br>He also said the MLAs present in Delhi paid tribute to Mahatma Gandhi by visiting Rajghat on the occasion of Gandhi Jayanti. \"We are here to meet AICC in charge of Chhattisgarh P L Punia and are waiting for him. We want to convey that Rahul Gandhi should extend the duration of his proposed tour to the state so that all MLAs can benefit from it,\" said Singh, the party MLA from the Ramanujganj seat of the state.<br>When contacted, Punia had said on Thursday that he was in Lucknow and had no information about the MLAs being in Delhi as none of them had contacted him. According to sources, so far about 20 MLAs have reached Delhi and some more legislators are expected to come to the national capital.<br>Meanwhile, the Congress appointed Baghel as a senior observer for next year's Uttar Pradesh Assembly elections. Baghel supporters see this as a positive sign.<br>A legislator supporting Baghel said, \"Chhattisgarh is among the leading states of the country in terms of development under the leadership of our chief minister. This is the reason why the party high command has full faith in him.\" In his remarks in Raipur, Baghel asserted that his state can never become Punjab, and said the two states bear only one similarity — that of having numbers in their names.<br>The Congress has been in turmoil in Punjab after Amarinder Singh quit as the chief minister and the party's state unit chief Navjot Singh Sidhu tendered his resignation from his post ahead of the crucial assembly elections in the state early next year. \"Chhattisgarh will always remain Chhattisgarh. It cannot become Punjab.<br>The two states have only one similarity that both have numbers in their names,\" Baghel told reporters at the helipad in Raipur when asked that the BJP has equated Chhattisgarh and Punjab with the turmoil in the ruling Congress.<br>\"Punjab is the land of 'punj' (five) 'aab' (water). It is made up of five rivers. Similarly, Chhattisgarh has derived its name from 'chhattis' (thirty-six) 'garh' (fort). No other states have numbers in their names. There is no other similarity between the two states,\" he added.<br>The demand for a change of guard reared its head in Chhattisgarh after Baghel completed two-and-a-half years as chief minister in June 2021. The camp of cabinet minister T S Singhdeo has claimed that the high command in 2018 had agreed to hand over the post to him after the government completed half its term.<br>The Congress high command summoned both Baghel and Singhdeo to Delhi in August to resolve the feud.<br>It appeared that Baghel had managed to avert, for the time being, a leadership change when he told reporters in Raipur recently that Rahul Gandhi had agreed to visit the state \"on his invitation\", and those talking about rotating the CM's post were promoting political instability. However, there has been constant speculation over the matter.<br>.<br><a href='https://www.news18.com/news/politics/about-20-chhattisgarh-mlas-stay-put-in-delhi-cm-baghel-says-visit-not-political-4277003.html'>Read More</a>\n"
     ]
    }
   ],
   "source": [
    "description = \"\";\n",
    "for content in soup.body.article.find_all(\"p\",class_=lambda x: x and x.startswith('story_para_'))[0:-1] :\n",
    "    if content.text.find(\"RELATED NEWS\") == -1 :\n",
    "        description = description + content.text.strip() + \"<br>\"\n",
    "description = description + \"<a href='\" + url + \"'>Read More</a>\"\n",
    "print(description)"
   ]
  },
  {
   "cell_type": "code",
   "execution_count": 63,
   "id": "necessary-canadian",
   "metadata": {},
   "outputs": [
    {
     "data": {
      "text/plain": [
       "'https://images.news18.com/ibnlive/uploads/2020/07/1594881119_news18_default_image.jpg?impolicy=website&width=510&height=356'"
      ]
     },
     "execution_count": 63,
     "metadata": {},
     "output_type": "execute_result"
    }
   ],
   "source": [
    "soup.body.figure.find_all(\"img\")[1]['src']"
   ]
  },
  {
   "cell_type": "code",
   "execution_count": null,
   "id": "brief-capacity",
   "metadata": {},
   "outputs": [],
   "source": []
  },
  {
   "cell_type": "code",
   "execution_count": 64,
   "id": "hourly-river",
   "metadata": {},
   "outputs": [],
   "source": [
    "import json"
   ]
  },
  {
   "cell_type": "code",
   "execution_count": 65,
   "id": "convinced-dating",
   "metadata": {},
   "outputs": [],
   "source": [
    "data = {\n",
    "    'title' : soup.body.h1.text.strip(),\n",
    "    'description' : description,\n",
    "}"
   ]
  },
  {
   "cell_type": "code",
   "execution_count": 2,
   "id": "numerous-lafayette",
   "metadata": {},
   "outputs": [
    {
     "name": "stdout",
     "output_type": "stream",
     "text": [
      "Collecting pymysql\n",
      "  Using cached PyMySQL-1.0.2-py3-none-any.whl (43 kB)\n",
      "Installing collected packages: pymysql\n",
      "Successfully installed pymysql-1.0.2\n"
     ]
    }
   ],
   "source": [
    "!pip install pymysql"
   ]
  },
  {
   "cell_type": "code",
   "execution_count": null,
   "id": "behavioral-simulation",
   "metadata": {},
   "outputs": [],
   "source": []
  }
 ],
 "metadata": {
  "kernelspec": {
   "display_name": "Python 3 (ipykernel)",
   "language": "python",
   "name": "python3"
  },
  "language_info": {
   "codemirror_mode": {
    "name": "ipython",
    "version": 3
   },
   "file_extension": ".py",
   "mimetype": "text/x-python",
   "name": "python",
   "nbconvert_exporter": "python",
   "pygments_lexer": "ipython3",
   "version": "3.8.10"
  }
 },
 "nbformat": 4,
 "nbformat_minor": 5
}

{
 "cells": [
  {
   "cell_type": "code",
   "execution_count": 17,
   "id": "peripheral-sphere",
   "metadata": {},
   "outputs": [],
   "source": [
    "import requests\n",
    "from bs4 import BeautifulSoup\n",
    "import time\n",
    "import re"
   ]
  },
  {
   "cell_type": "code",
   "execution_count": 18,
   "id": "computational-magazine",
   "metadata": {},
   "outputs": [],
   "source": [
    "url = \"https://www.thehindu.com/news/international/goons-attack-hindu-temples-in-bangladesh-during-durga-puja-3-killed-paramilitary-force-called-in/article36998586.ece?homepage=true\""
   ]
  },
  {
   "cell_type": "code",
   "execution_count": 19,
   "id": "induced-place",
   "metadata": {},
   "outputs": [],
   "source": [
    "response = requests.get(url)\n",
    "soup = BeautifulSoup(response.text,'html.parser')"
   ]
  },
  {
   "cell_type": "code",
   "execution_count": 20,
   "id": "classical-essence",
   "metadata": {},
   "outputs": [
    {
     "data": {
      "text/plain": [
       "'Goons attack Hindu temples in Bangladesh during Durga Puja, 3 killed; paramilitary force called in'"
      ]
     },
     "execution_count": 20,
     "metadata": {},
     "output_type": "execute_result"
    }
   ],
   "source": [
    "soup.body.h1.text.replace(\"\\n\",\"\")"
   ]
  },
  {
   "cell_type": "code",
   "execution_count": 21,
   "id": "rental-preserve",
   "metadata": {},
   "outputs": [
    {
     "data": {
      "text/plain": [
       "'https://th.thgim.com/incoming/2okln2/article36998603.ece/ALTERNATES/FREE_960/Durga-Pooja'"
      ]
     },
     "execution_count": 21,
     "metadata": {},
     "output_type": "execute_result"
    }
   ],
   "source": [
    "soup.picture.source[\"srcset\"]"
   ]
  },
  {
   "cell_type": "code",
   "execution_count": 33,
   "id": "noble-maldives",
   "metadata": {},
   "outputs": [],
   "source": [
    "description = \"\"\n",
    "for i in soup.find(\"div\", id = re.compile(\"^content-body-\")).find_all(\"p\") :\n",
    "    description = descrption + i.text + \"<br><br>\"\n",
    "descrption = descrption + \"<a href='\" + url + \"'>Read More...</a>\""
   ]
  },
  {
   "cell_type": "code",
   "execution_count": 34,
   "id": "normal-flower",
   "metadata": {},
   "outputs": [
    {
     "data": {
      "text/plain": [
       "\"<a href='https://www.thehindu.com/news/international/goons-attack-hindu-temples-in-bangladesh-during-durga-puja-3-killed-paramilitary-force-called-in/article36998586.ece?homepage=true'>Read More...</a>“So far we have deployed BGB personnel to 22 districts, including Cumilla and Narsingdi, as necessary,” the officer said, adding that troops could also be deployed to the capital if the local administration makes a request. <br><br>\""
      ]
     },
     "execution_count": 34,
     "metadata": {},
     "output_type": "execute_result"
    }
   ],
   "source": [
    "description"
   ]
  },
  {
   "cell_type": "code",
   "execution_count": null,
   "id": "electoral-frost",
   "metadata": {},
   "outputs": [],
   "source": []
  }
 ],
 "metadata": {
  "kernelspec": {
   "display_name": "Python 3",
   "language": "python",
   "name": "python3"
  },
  "language_info": {
   "codemirror_mode": {
    "name": "ipython",
    "version": 3
   },
   "file_extension": ".py",
   "mimetype": "text/x-python",
   "name": "python",
   "nbconvert_exporter": "python",
   "pygments_lexer": "ipython3",
   "version": "3.8.5"
  }
 },
 "nbformat": 4,
 "nbformat_minor": 5
}

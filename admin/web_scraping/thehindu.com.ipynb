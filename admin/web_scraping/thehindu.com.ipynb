{
 "cells": [
  {
   "cell_type": "code",
   "execution_count": 1,
   "id": "peripheral-sphere",
   "metadata": {},
   "outputs": [],
   "source": [
    "import requests\n",
    "from bs4 import BeautifulSoup\n",
    "import time\n",
    "import re"
   ]
  },
  {
   "cell_type": "code",
   "execution_count": 2,
   "id": "computational-magazine",
   "metadata": {},
   "outputs": [],
   "source": [
    "url = \"https://www.thehindu.com/news/international/goons-attack-hindu-temples-in-bangladesh-during-durga-puja-3-killed-paramilitary-force-called-in/article36998586.ece?homepage=true\""
   ]
  },
  {
   "cell_type": "code",
   "execution_count": 3,
   "id": "induced-place",
   "metadata": {},
   "outputs": [],
   "source": [
    "response = requests.get(url)\n",
    "soup = BeautifulSoup(response.text,'html.parser')"
   ]
  },
  {
   "cell_type": "code",
   "execution_count": 4,
   "id": "classical-essence",
   "metadata": {},
   "outputs": [
    {
     "data": {
      "text/plain": [
       "'Goons attack Hindu temples in Bangladesh during Durga Puja, 3 killed; paramilitary force called in'"
      ]
     },
     "execution_count": 4,
     "metadata": {},
     "output_type": "execute_result"
    }
   ],
   "source": [
    "soup.body.h1.text.replace(\"\\n\",\"\")"
   ]
  },
  {
   "cell_type": "code",
   "execution_count": 5,
   "id": "rental-preserve",
   "metadata": {},
   "outputs": [
    {
     "data": {
      "text/plain": [
       "'https://th.thgim.com/incoming/2okln2/article36998603.ece/ALTERNATES/FREE_960/Durga-Pooja'"
      ]
     },
     "execution_count": 5,
     "metadata": {},
     "output_type": "execute_result"
    }
   ],
   "source": [
    "soup.picture.source[\"srcset\"]"
   ]
  },
  {
   "cell_type": "code",
   "execution_count": 7,
   "id": "noble-maldives",
   "metadata": {},
   "outputs": [],
   "source": [
    "description = \"\"\n",
    "for i in soup.find(\"div\", id = re.compile(\"^content-body-\")).find_all(\"p\") :\n",
    "    description = description + i.text + \"<br><br>\"\n",
    "description = description + \"<a href='\" + url + \"'>Read More...</a>\""
   ]
  },
  {
   "cell_type": "code",
   "execution_count": 8,
   "id": "normal-flower",
   "metadata": {},
   "outputs": [
    {
     "data": {
      "text/plain": [
       "\" Hindu temples in Bangladesh have been vandalised by some unidentified miscreants during the Durga Puja celebrations, prompting the government to deploy paramilitary force in 22 districts after three people were killed and many others injured in the riots, media reports said on Thursday.<br><br> The bdnews24.com news website reported that after allegations of blasphemy, a local temple in Cumilla, about 100 kms from the national capital Dhaka, became the centre of a social media storm on Wednesday.<br><br> As clashes broke out, the administration and the police tried to bring the situation under control, it said.<br><br> Incidents of vandalism have also been reported from Hindu temples in Chandpur’s Hajiganj, Chattogram’s Banshkhali and Cox’s Bazar’s Pekua, the report said.<br><br> The Dhaka Tribune newspaper reported that at one stage, the situation went out of control and riots started spreading to a number of Durga Puja venues.<br><br> The local administration and the police came under attack as they tried to maintain law and order, it said.<br><br> The Daily Star newspaper reported that at least three people were killed and many others injured on Wednesday as a mob and the police clashed in Chandpur’s Hajiganj upazila following the incident in Cumilla.<br><br> Later, the elite anti-crime and anti-terrorism unit of the Bangladesh Police Rapid Action Battalion (RAB) and paramilitary force Border Guard Bangladesh (BGB) were deployed to bring the situation under control, the report said.<br><br> The religious affairs ministry issued an emergency notice, urging members of the public not to take the law into their hands as it reiterated calls to maintain communal harmony and peace, it said.<br><br> The government deployed the BGB in 22 districts after multiple attacks on Hindu temples during Durga Puja celebrations, the report said.<br><br>“BGB personnel have been deployed to ensure security during Durga Puja at the request of deputy commissioners and under instructions from the home ministry,” BGB director of operations Lieutenant colonel Faizur Rahman said.<br><br>“So far we have deployed BGB personnel to 22 districts, including Cumilla and Narsingdi, as necessary,” the officer said, adding that troops could also be deployed to the capital if the local administration makes a request. <br><br><a href='https://www.thehindu.com/news/international/goons-attack-hindu-temples-in-bangladesh-during-durga-puja-3-killed-paramilitary-force-called-in/article36998586.ece?homepage=true'>Read More...</a>\""
      ]
     },
     "execution_count": 8,
     "metadata": {},
     "output_type": "execute_result"
    }
   ],
   "source": [
    "description"
   ]
  },
  {
   "cell_type": "code",
   "execution_count": null,
   "id": "electoral-frost",
   "metadata": {},
   "outputs": [],
   "source": []
  }
 ],
 "metadata": {
  "kernelspec": {
   "display_name": "Python 3",
   "language": "python",
   "name": "python3"
  },
  "language_info": {
   "codemirror_mode": {
    "name": "ipython",
    "version": 3
   },
   "file_extension": ".py",
   "mimetype": "text/x-python",
   "name": "python",
   "nbconvert_exporter": "python",
   "pygments_lexer": "ipython3",
   "version": "3.8.5"
  }
 },
 "nbformat": 4,
 "nbformat_minor": 5
}

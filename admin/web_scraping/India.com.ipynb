{
 "cells": [
  {
   "cell_type": "code",
   "execution_count": 1,
   "id": "economic-trick",
   "metadata": {},
   "outputs": [],
   "source": [
    "import requests\n",
    "from bs4 import BeautifulSoup\n",
    "import time"
   ]
  },
  {
   "cell_type": "code",
   "execution_count": 2,
   "id": "trying-rwanda",
   "metadata": {},
   "outputs": [],
   "source": [
    "url = \"https://www.india.com/travel/articles/good-news-tourists-from-australia-canada-us-uk-who-do-not-have-an-oci-card-they-will-soon-get-500000-free-visas-to-visit-india-indian-tourism-vande-bharat-mission-5054664/\""
   ]
  },
  {
   "cell_type": "code",
   "execution_count": 3,
   "id": "brutal-electric",
   "metadata": {},
   "outputs": [],
   "source": [
    "response = requests.get(url)\n",
    "soup = BeautifulSoup(response.text,'html.parser')"
   ]
  },
  {
   "cell_type": "code",
   "execution_count": 4,
   "id": "biological-tattoo",
   "metadata": {},
   "outputs": [
    {
     "data": {
      "text/plain": [
       "'Good News For Tourists From Australia, Other Countries, They Will Soon Get 500,000 Free Visas to Visit India | Details Here'"
      ]
     },
     "execution_count": 4,
     "metadata": {},
     "output_type": "execute_result"
    }
   ],
   "source": [
    "soup.body.h1.text.replace(u'\\xa0','')"
   ]
  },
  {
   "cell_type": "code",
   "execution_count": 5,
   "id": "northern-tamil",
   "metadata": {},
   "outputs": [],
   "source": [
    "description = soup.find(\"div\", class_ = \"articleBody\").text.replace('\\n', \"<br>\") + \"<br><a href = '\" + url + \"'>Read More...</a>\" "
   ]
  },
  {
   "cell_type": "code",
   "execution_count": 6,
   "id": "centered-history",
   "metadata": {},
   "outputs": [
    {
     "data": {
      "text/plain": [
       "\"New Delhi: Here comes a piece of good news for tourists from Australia and other foreign countries as they will soon receive over 500,000 free visas to visit India. This was earlier announced by the Central government. Moreover, the Union Home Ministry earlier this month has decided to allow foreign tourists to visit India by chartered flights from October 15 and those by regular planes from November 15.Also Read - Enforce COVID Guidelines at All Identified Places: Delhi Govt Urges Magistrates, DCPs Ahead of Festivals As the COVID-19 situation has improved in the country, the Central government decided to commence issuing tourist visas. Also Read - International Flights: Airline Suspends Flights From Kabul Citing Taliban Interference. Details Here  Earlier, the Ministry of Home Affairs (MHA) had said in a statement that the first 500,000 visas would be issued free of charge for foreign tourists. Also Read - Tamil Nadu Extends Lockdown Till Oct 31; Allows Hotels, Shops to Open Till 11 PM | Check Full List of Guidelines Here And then, in the recent notification, the Home Ministry said that from November 15, tourists could travel via non-chartered flights, particularly those run as part of Vande Bharat Mission or under ‘air bubble’ arrangements with different countries.  <br><br>With the improvement in the COVID situation, the Centre has slowly lifted restrictions on most categories of foreign visas, such as diplomats and businesspeople. Notably, this would be a good news for many Indian-origin citizens of Australia, Canada, the US, the UK, and other countries who do not have an OCI card and rely on tourist visas to travel to India. Earlier, the Centre had said that the free visas will be issued once the government reopens borders for leisure tourists and working capital or personal loans will be provided to travel firms and registered tourist guides to discharge liabilities and restart their business. Giving further details, Finance Minister Nirmala Sitharaman had said that the scheme will benefit 11,000 stakeholders including 904 tour operators and 10,700 tourist guides. Loans of Rs 10 lakh and Rs one lakh with hundred percent guarantee will be provided to travel firms and guides respectively, she had said. <br><br>“We feel the grant of free visas will be a big game changer for Indian tourism. Several tourists from our key markets in West Europe and the US had postponed their travel to India last year and we hope they will plan trips once we open our borders for them,” Tourism Ministry’s additional director general Rupinder Brar had said earlier.<br><br><a href = 'https://www.india.com/travel/articles/good-news-tourists-from-australia-canada-us-uk-who-do-not-have-an-oci-card-they-will-soon-get-500000-free-visas-to-visit-india-indian-tourism-vande-bharat-mission-5054664/'>Read More...</a>\""
      ]
     },
     "execution_count": 6,
     "metadata": {},
     "output_type": "execute_result"
    }
   ],
   "source": [
    "while description.startswith(\"<br>\"):\n",
    "    description = description[4:]\n",
    "description"
   ]
  },
  {
   "cell_type": "code",
   "execution_count": 7,
   "id": "golden-lingerie",
   "metadata": {},
   "outputs": [
    {
     "data": {
      "text/plain": [
       "'https://static.india.com/wp-content/uploads/2019/07/A-traveller-waiting-at-an-airport.-.jpg'"
      ]
     },
     "execution_count": 7,
     "metadata": {},
     "output_type": "execute_result"
    }
   ],
   "source": [
    "soup.find(\"figure\", class_ = \"postImage\").img[\"data-lazy-src\"]"
   ]
  },
  {
   "cell_type": "code",
   "execution_count": null,
   "id": "viral-configuration",
   "metadata": {},
   "outputs": [],
   "source": []
  },
  {
   "cell_type": "code",
   "execution_count": null,
   "id": "rubber-threat",
   "metadata": {},
   "outputs": [],
   "source": []
  },
  {
   "cell_type": "code",
   "execution_count": null,
   "id": "included-masters",
   "metadata": {},
   "outputs": [],
   "source": []
  },
  {
   "cell_type": "code",
   "execution_count": null,
   "id": "sexual-program",
   "metadata": {},
   "outputs": [],
   "source": []
  },
  {
   "cell_type": "code",
   "execution_count": null,
   "id": "vital-bosnia",
   "metadata": {},
   "outputs": [],
   "source": []
  },
  {
   "cell_type": "code",
   "execution_count": null,
   "id": "acquired-appraisal",
   "metadata": {},
   "outputs": [],
   "source": []
  },
  {
   "cell_type": "code",
   "execution_count": null,
   "id": "induced-market",
   "metadata": {},
   "outputs": [],
   "source": []
  },
  {
   "cell_type": "code",
   "execution_count": 8,
   "id": "straight-summary",
   "metadata": {},
   "outputs": [],
   "source": [
    "url = \"https://www.india.com/news/india/crime-news-delhi-police-busts-fake-job-racket-offering-employment-in-indian-railways-4-arrested-5054475/\""
   ]
  },
  {
   "cell_type": "code",
   "execution_count": 9,
   "id": "divided-helmet",
   "metadata": {},
   "outputs": [],
   "source": [
    "response = requests.get(url)\n",
    "soup = BeautifulSoup(response.text,'html.parser')"
   ]
  },
  {
   "cell_type": "code",
   "execution_count": 10,
   "id": "economic-device",
   "metadata": {},
   "outputs": [
    {
     "data": {
      "text/plain": [
       "'Delhi Police Busts Fake Job Racket Offering Employment in Indian Railways, 4 Arrested'"
      ]
     },
     "execution_count": 10,
     "metadata": {},
     "output_type": "execute_result"
    }
   ],
   "source": [
    "soup.body.h1.text.replace(u'\\xa0','')"
   ]
  },
  {
   "cell_type": "code",
   "execution_count": 11,
   "id": "caring-consultancy",
   "metadata": {},
   "outputs": [],
   "source": [
    "description = soup.find(\"div\", class_ = \"articleBody\").text.replace('\\n', \"<br>\") + \"<br><a href = '\" + url + \"'>Read More...</a>\" "
   ]
  },
  {
   "cell_type": "code",
   "execution_count": 12,
   "id": "outer-winning",
   "metadata": {},
   "outputs": [
    {
     "data": {
      "text/plain": [
       "\"New Delhi: The Delhi Police have arrested four persons accused of cheating people on the pretext of providing them a job in the Indian Railways, reported news agency IANS quoting an official on Thursday. According to the police, a case was registered at Parliament Street police station in July this year on the complaint of an Ola driver, who alleged that he was cheated by some people who promised to get him the job of ticket checker in the Indian Railways. He said that he was provided some forged documents such as attestation form, medical certificate and ID card of a TC.Also Read - RSMSSB Patwari Admit Card 2021 RELEASED at rsmssb.rajasthan.gov.in; Find Direct Link, How to Download Here Interestingly, the complainant was also given training for almost two months at Rajendar Nagar Railway Station here. “As it was a challenging task to nab the culprits, we constituted a special team of policemen,” Deputy Commissioner of Police Deepak Yadav said. On October 5, the police team arrested one accused identified as Sukhraj Singh who was then sent to police remand by a local court. During interrogation, he disclosed that his job was to search for clients and he used to forward the names of such people to the second accused named Amit in Bihar. Also Read - Infosys Jobs: IT Giant to Hire 45,000 College Graduates After Posting Strong Results in Q2  Subsequently, a police team conducted a raid in Patna, Bihar from where three persons including the kingpin identified as Dayanand Saraswati and Sunil Kumar and their associate Amar Kumar were arrested. Further investigation revealed that they used to prepare the forged documents of Indian Railways and also conduct a false medical examination with the help of Amar Kumar. The accused accepted that they used to give fake training at the Railway stations in Bihar. Also Read - IRCTC Latest News: Passengers Now Can Book Bus Tickets on IRCTC’s Rail Connect App | Details Here <br><br>“From the possession of the accused persons, one laptop (used for preparing the forged documents), some forged documents and some rubber stamps of the Indian Railways were recovered,” the police added.  (Based on IANS inputs)<br><br><a href = 'https://www.india.com/news/india/crime-news-delhi-police-busts-fake-job-racket-offering-employment-in-indian-railways-4-arrested-5054475/'>Read More...</a>\""
      ]
     },
     "execution_count": 12,
     "metadata": {},
     "output_type": "execute_result"
    }
   ],
   "source": [
    "while description.startswith(\"<br>\"):\n",
    "    description = description[4:]\n",
    "description"
   ]
  },
  {
   "cell_type": "code",
   "execution_count": 13,
   "id": "accompanied-daughter",
   "metadata": {},
   "outputs": [
    {
     "data": {
      "text/plain": [
       "'https://static.india.com/wp-content/uploads/2020/12/jobsrep.jpg'"
      ]
     },
     "execution_count": 13,
     "metadata": {},
     "output_type": "execute_result"
    }
   ],
   "source": [
    "soup.find(\"figure\", class_ = \"postImage\").img[\"data-lazy-src\"]"
   ]
  }
 ],
 "metadata": {
  "kernelspec": {
   "display_name": "Python 3",
   "language": "python",
   "name": "python3"
  },
  "language_info": {
   "codemirror_mode": {
    "name": "ipython",
    "version": 3
   },
   "file_extension": ".py",
   "mimetype": "text/x-python",
   "name": "python",
   "nbconvert_exporter": "python",
   "pygments_lexer": "ipython3",
   "version": "3.8.5"
  }
 },
 "nbformat": 4,
 "nbformat_minor": 5
}

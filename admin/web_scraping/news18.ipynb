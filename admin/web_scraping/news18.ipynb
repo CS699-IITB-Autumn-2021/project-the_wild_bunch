{
 "cells": [
  {
   "cell_type": "code",
   "execution_count": 27,
   "id": "featured-hierarchy",
   "metadata": {},
   "outputs": [],
   "source": [
    "import requests\n",
    "from bs4 import BeautifulSoup\n",
    "import time"
   ]
  },
  {
   "cell_type": "code",
   "execution_count": 22,
   "id": "developed-onion",
   "metadata": {},
   "outputs": [],
   "source": [
    "url = \"https://www.news18.com/news/business/tcs-wipro-marico-work-from-home-to-end-soon-how-it-firms-planning-to-return-to-office-4274480.html\"\n",
    "# url = \"https://www.news18.com/cricketnext/news/mumbai-cricket-association-to-handover-hospitality-box-to-sunil-gavaskar-on-october-29-4275809.html\""
   ]
  },
  {
   "cell_type": "code",
   "execution_count": 23,
   "id": "given-software",
   "metadata": {},
   "outputs": [],
   "source": [
    "response = requests.get(url)\n",
    "soup = BeautifulSoup(response.text,'html.parser')"
   ]
  },
  {
   "cell_type": "code",
   "execution_count": 24,
   "id": "ambient-basis",
   "metadata": {},
   "outputs": [
    {
     "data": {
      "text/plain": [
       "'TCS, Wipro, Marico Work From Home to End Soon. How IT Firms Planning to Return to Office'"
      ]
     },
     "execution_count": 24,
     "metadata": {},
     "output_type": "execute_result"
    }
   ],
   "source": [
    "soup.body.h1.text.strip()"
   ]
  },
  {
   "cell_type": "code",
   "execution_count": 25,
   "id": "worthy-intersection",
   "metadata": {},
   "outputs": [
    {
     "name": "stdout",
     "output_type": "stream",
     "text": [
      "The cases are dipping, vaccination is picking up, pandemic is changing into endemic and now, the economy, corporations are clawing back to normalcy, the economy rebounding and the corporations getting back on the track. After the deadly second wave of Covid-19 infection, the world is seeing some semblance of normalcy, and now embracing the hybrid model of working, the corporations across the world are gearing up to call back their employees to office.<br>Sundar Pichai, CEO of Google, on May 5, 2021, in an email written to employees mentioned about “hybrid workplace”. In the mail itself, he went on to add that this is a model wherein around 60 per cent of the employees would come together in the office a few days every week, another 20 per cent would work in new office locations, and the remaining 20 per cent would work from home.<br>This news headlines stirred up the conversation about the new normal that was set to replace the traditional working model not only at the Google but also across the world. The model now is a buzz word in corporate lingo in India as well. Hybrid model shot to fame after this pandemic necessitated to work from home. This model entails partially working from home and partially from office that means going to office for some days in the week and working from home from some days in the week.<br>Taking a lead in reorienting their working strategy, big technology giant like Tata Consultancy Services (TCS), Wipro and Marico are giving a fresh lease of life to this innovative hybrid model. India’s biggest IT outsourcing company, TCS, in the past, made this clear that the company is planning to call back 90 per cent of its employees by the end of this year or by the beginning of 2022. However, the company threw light on its 2025 model, according to which 25 per cent of its total workforce will be working from home till 2025. The top brass of the company also ensured the full safety of its employees, who all will resume working from office. In the league of companies, ending the work from home is Wipro, who also made its intention public about embracing hybrid model and calling back employees.<br>In addition to TCS, Wipro, Marico Limited, one of India’s leading FMCG companies, has also announced its plans to enforce the hybrid model of working for all employees from tomorrow. Several Indian companies are offering hybrid work models which is helping the companies cut rental and electricity costs, apart from saving commuting time for employees. Under the new ‘Ways of Work’ design, Marico will offer greater flexibility to employees thus enabling the majority of employees to work from the office at reduced frequency. The endeavour is to offer a work model where employees will have the benefits of work from home as well as office to better manage work and family needs while delivering on business commitments, the company said in a statement. Many companies now follow a hot desking strategy under which employees can sit anywhere when in office.<br>However, people at the high echelon of administration in various media interaction talked about the system that has been put in place to ensure the safety of its employees. Since the epidemiologists and health experts are warning about the possibility of a third wave hitting the country, what needs to be seen is how this innovative hybrid model of working is playing out in the coming time.<br><a href='https://www.news18.com/news/business/tcs-wipro-marico-work-from-home-to-end-soon-how-it-firms-planning-to-return-to-office-4274480.html'>Read More</a>\n"
     ]
    }
   ],
   "source": [
    "description = \"\";\n",
    "for content in soup.body.article.find_all(\"p\",class_=lambda x: x and x.startswith('story_para_'))[0:-1] :\n",
    "    if content.text.find(\"RELATED NEWS\") == -1 :\n",
    "        description = description + content.text.strip() + \"<br>\"\n",
    "description = description + \"<a href='\" + url + \"'>Read More</a>\"\n",
    "print(description)"
   ]
  },
  {
   "cell_type": "code",
   "execution_count": 34,
   "id": "unavailable-xerox",
   "metadata": {},
   "outputs": [],
   "source": []
  },
  {
   "cell_type": "code",
   "execution_count": 35,
   "id": "peripheral-worcester",
   "metadata": {},
   "outputs": [],
   "source": [
    "response = requests.get(image)\n",
    "image = str(time.time()) + '.' + image.split('.')[-1]\n",
    "file = open(image, \"wb\")\n",
    "file.write(response.content)\n",
    "file.close()"
   ]
  },
  {
   "cell_type": "code",
   "execution_count": null,
   "id": "worth-donor",
   "metadata": {},
   "outputs": [],
   "source": []
  },
  {
   "cell_type": "code",
   "execution_count": null,
   "id": "annual-percentage",
   "metadata": {},
   "outputs": [],
   "source": []
  },
  {
   "cell_type": "code",
   "execution_count": null,
   "id": "initial-example",
   "metadata": {},
   "outputs": [],
   "source": []
  },
  {
   "cell_type": "code",
   "execution_count": 11,
   "id": "soviet-potato",
   "metadata": {},
   "outputs": [],
   "source": [
    "url = \"https://www.news18.com/news/politics/about-20-chhattisgarh-mlas-stay-put-in-delhi-cm-baghel-says-visit-not-political-4277003.html\""
   ]
  },
  {
   "cell_type": "code",
   "execution_count": 12,
   "id": "stylish-merchant",
   "metadata": {},
   "outputs": [],
   "source": [
    "response = requests.get(url)\n",
    "soup = BeautifulSoup(response.text,'html.parser')"
   ]
  },
  {
   "cell_type": "code",
   "execution_count": 13,
   "id": "vertical-transformation",
   "metadata": {},
   "outputs": [
    {
     "data": {
      "text/plain": [
       "\"About 20 Chhattisgarh Congress MLAs Stay Put in Delhi, CM Baghel Says Visit 'Not Political'\""
      ]
     },
     "execution_count": 13,
     "metadata": {},
     "output_type": "execute_result"
    }
   ],
   "source": [
    "soup.body.h1.text.strip()"
   ]
  },
  {
   "cell_type": "code",
   "execution_count": 16,
   "id": "powerful-nancy",
   "metadata": {},
   "outputs": [
    {
     "name": "stdout",
     "output_type": "stream",
     "text": [
      "However, Baghel, in Raipur, said the visit by the Congress MLAs to Delhi should not be seen through the prism of politics.<br>The chief minister said there is no ban on the legislators going somewhere and they are independent. \"It is not a political movement… They will visit and return,\" he added.<br>The remarks came amid speculations over the possibility of a leadership change in Chhattisgarh where cabinet minister T S Singhdeo is vying for the chief minister post. MLA Brihaspat Singh, who is camped in Delhi, reiterated on Saturday that there is no question of change of leadership in the state and the government will complete its term of five years under the leadership of Baghel.<br>He also said the MLAs present in Delhi paid tribute to Mahatma Gandhi by visiting Rajghat on the occasion of Gandhi Jayanti. \"We are here to meet AICC in charge of Chhattisgarh P L Punia and are waiting for him. We want to convey that Rahul Gandhi should extend the duration of his proposed tour to the state so that all MLAs can benefit from it,\" said Singh, the party MLA from the Ramanujganj seat of the state.<br>When contacted, Punia had said on Thursday that he was in Lucknow and had no information about the MLAs being in Delhi as none of them had contacted him. According to sources, so far about 20 MLAs have reached Delhi and some more legislators are expected to come to the national capital.<br>Meanwhile, the Congress appointed Baghel as a senior observer for next year's Uttar Pradesh Assembly elections. Baghel supporters see this as a positive sign.<br>A legislator supporting Baghel said, \"Chhattisgarh is among the leading states of the country in terms of development under the leadership of our chief minister. This is the reason why the party high command has full faith in him.\" In his remarks in Raipur, Baghel asserted that his state can never become Punjab, and said the two states bear only one similarity — that of having numbers in their names.<br>The Congress has been in turmoil in Punjab after Amarinder Singh quit as the chief minister and the party's state unit chief Navjot Singh Sidhu tendered his resignation from his post ahead of the crucial assembly elections in the state early next year. \"Chhattisgarh will always remain Chhattisgarh. It cannot become Punjab.<br>The two states have only one similarity that both have numbers in their names,\" Baghel told reporters at the helipad in Raipur when asked that the BJP has equated Chhattisgarh and Punjab with the turmoil in the ruling Congress.<br>\"Punjab is the land of 'punj' (five) 'aab' (water). It is made up of five rivers. Similarly, Chhattisgarh has derived its name from 'chhattis' (thirty-six) 'garh' (fort). No other states have numbers in their names. There is no other similarity between the two states,\" he added.<br>The demand for a change of guard reared its head in Chhattisgarh after Baghel completed two-and-a-half years as chief minister in June 2021. The camp of cabinet minister T S Singhdeo has claimed that the high command in 2018 had agreed to hand over the post to him after the government completed half its term.<br>The Congress high command summoned both Baghel and Singhdeo to Delhi in August to resolve the feud.<br>It appeared that Baghel had managed to avert, for the time being, a leadership change when he told reporters in Raipur recently that Rahul Gandhi had agreed to visit the state \"on his invitation\", and those talking about rotating the CM's post were promoting political instability. However, there has been constant speculation over the matter.<br>.<br><a href='https://www.news18.com/news/politics/about-20-chhattisgarh-mlas-stay-put-in-delhi-cm-baghel-says-visit-not-political-4277003.html'>Read More</a>\n"
     ]
    }
   ],
   "source": [
    "description = \"\";\n",
    "for content in soup.body.article.find_all(\"p\",class_=lambda x: x and x.startswith('story_para_'))[0:-1] :\n",
    "    if content.text.find(\"RELATED NEWS\") == -1 :\n",
    "        description = description + content.text.strip() + \"<br>\"\n",
    "description = description + \"<a href='\" + url + \"'>Read More</a>\"\n",
    "print(description)"
   ]
  },
  {
   "cell_type": "code",
   "execution_count": 63,
   "id": "necessary-canadian",
   "metadata": {},
   "outputs": [
    {
     "data": {
      "text/plain": [
       "'https://images.news18.com/ibnlive/uploads/2020/07/1594881119_news18_default_image.jpg?impolicy=website&width=510&height=356'"
      ]
     },
     "execution_count": 63,
     "metadata": {},
     "output_type": "execute_result"
    }
   ],
   "source": [
    "soup.body.figure.find_all(\"img\")[1]['src']"
   ]
  },
  {
   "cell_type": "code",
   "execution_count": null,
   "id": "brief-capacity",
   "metadata": {},
   "outputs": [],
   "source": []
  },
  {
   "cell_type": "code",
   "execution_count": 64,
   "id": "hourly-river",
   "metadata": {},
   "outputs": [],
   "source": [
    "import json"
   ]
  },
  {
   "cell_type": "code",
   "execution_count": 65,
   "id": "convinced-dating",
   "metadata": {},
   "outputs": [],
   "source": [
    "data = {\n",
    "    'title' : soup.body.h1.text.strip(),\n",
    "    'description' : description,\n",
    "}"
   ]
  },
  {
   "cell_type": "code",
   "execution_count": 2,
   "id": "numerous-lafayette",
   "metadata": {},
   "outputs": [
    {
     "name": "stdout",
     "output_type": "stream",
     "text": [
      "Collecting pymysql\n",
      "  Using cached PyMySQL-1.0.2-py3-none-any.whl (43 kB)\n",
      "Installing collected packages: pymysql\n",
      "Successfully installed pymysql-1.0.2\n"
     ]
    }
   ],
   "source": [
    "!pip install pymysql"
   ]
  },
  {
   "cell_type": "code",
   "execution_count": null,
   "id": "behavioral-simulation",
   "metadata": {},
   "outputs": [],
   "source": []
  }
 ],
 "metadata": {
  "kernelspec": {
   "display_name": "Python 3",
   "language": "python",
   "name": "python3"
  },
  "language_info": {
   "codemirror_mode": {
    "name": "ipython",
    "version": 3
   },
   "file_extension": ".py",
   "mimetype": "text/x-python",
   "name": "python",
   "nbconvert_exporter": "python",
   "pygments_lexer": "ipython3",
   "version": "3.8.5"
  }
 },
 "nbformat": 4,
 "nbformat_minor": 5
}
